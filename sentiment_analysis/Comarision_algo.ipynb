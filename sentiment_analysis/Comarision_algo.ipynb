{
 "cells": [
  {
   "cell_type": "code",
   "execution_count": 2,
   "id": "ef0a18ae",
   "metadata": {},
   "outputs": [
    {
     "name": "stdout",
     "output_type": "stream",
     "text": [
      "SVM Accuracy: 0.7561\n",
      "Naive Bayes Accuracy: 0.7386\n",
      "Random Forest Accuracy: 0.7523\n"
     ]
    }
   ],
   "source": [
    "import pandas as pd\n",
    "from sklearn.feature_extraction.text import TfidfVectorizer\n",
    "from sklearn.svm import SVC\n",
    "from sklearn.naive_bayes import MultinomialNB\n",
    "from sklearn.ensemble import RandomForestClassifier\n",
    "from sklearn.model_selection import train_test_split\n",
    "from sklearn.metrics import accuracy_score\n",
    "\n",
    "# Read the preprocessed dataset\n",
    "df = pd.read_csv('training_cleaned.csv', encoding='ISO-8859-1')\n",
    "df.dropna(subset=['cleaned_text'], inplace=True)\n",
    "\n",
    "# Select a subset of the dataset for training and testing\n",
    "subset_df = df.sample(n=100000, random_state=42)\n",
    "\n",
    "# Split the dataset into training and testing sets\n",
    "X_train, X_test, y_train, y_test = train_test_split(subset_df['cleaned_text'], subset_df['sentiment'], test_size=0.2, random_state=42)\n",
    "\n",
    "# Vectorize the text data using TfidfVectorizer\n",
    "vectorizer = TfidfVectorizer()\n",
    "X_train_vectorized = vectorizer.fit_transform(X_train)\n",
    "X_test_vectorized = vectorizer.transform(X_test)\n",
    "\n",
    "# Train and evaluate SVM model\n",
    "svm = SVC(kernel='linear')\n",
    "svm.fit(X_train_vectorized, y_train)\n",
    "\n",
    "svm_accuracy = accuracy_score(y_test, svm.predict(X_test_vectorized))\n",
    "\n",
    "# Train and evaluate Naive Bayes model\n",
    "nb = MultinomialNB()\n",
    "nb.fit(X_train_vectorized, y_train)\n",
    "nb_accuracy = accuracy_score(y_test, nb.predict(X_test_vectorized))\n",
    "\n",
    "# Train and evaluate Random Forest model\n",
    "rf = RandomForestClassifier(n_estimators=100)\n",
    "rf.fit(X_train_vectorized, y_train)\n",
    "rf_accuracy = accuracy_score(y_test, rf.predict(X_test_vectorized))\n",
    "\n",
    "# Print the accuracies obtained by each algorithm\n",
    "print('SVM Accuracy:', svm_accuracy)\n",
    "print('Naive Bayes Accuracy:', nb_accuracy)\n",
    "print('Random Forest Accuracy:', rf_accuracy)\n"
   ]
  },
  {
   "cell_type": "markdown",
   "id": "174658e2",
   "metadata": {},
   "source": [
    "# Combining all the predicted values into one file"
   ]
  },
  {
   "cell_type": "code",
   "execution_count": 3,
   "id": "47337f23",
   "metadata": {},
   "outputs": [],
   "source": [
    "predictions = pd.DataFrame({'SVM': svm.predict(X_test_vectorized),\n",
    "                            'Naive Bayes': nb.predict(X_test_vectorized),\n",
    "                            'Random Forest': rf.predict(X_test_vectorized)})\n",
    "predictions.to_excel('predicted_values_3_algo.xlsx', index=False)"
   ]
  },
  {
   "cell_type": "markdown",
   "id": "693cc4bf",
   "metadata": {},
   "source": [
    "# Predicting the majority Sentiment"
   ]
  },
  {
   "cell_type": "code",
   "execution_count": 7,
   "id": "c4ed75ff",
   "metadata": {},
   "outputs": [
    {
     "name": "stdout",
     "output_type": "stream",
     "text": [
      "Accuracy:  0.75935\n"
     ]
    }
   ],
   "source": [
    "local_df=pd.read_excel('predicted_values_3_algo.xlsx')\n",
    "majority_sentiment = local_df['Majority'].tolist()\n",
    "print(\"Accuracy: \",accuracy_score(y_test,majority_sentiment))"
   ]
  },
  {
   "cell_type": "markdown",
   "id": "a2ec2db9",
   "metadata": {},
   "source": [
    "# Labelling our local_dataset\n"
   ]
  },
  {
   "cell_type": "code",
   "execution_count": 10,
   "id": "08ff6110",
   "metadata": {},
   "outputs": [],
   "source": [
    "local_df = pd.read_excel('cleaned_local_dataset.xlsx')\n",
    "\n",
    "# Vectorize the text data using the same TfidfVectorizer object used in training\n",
    "X_local_test_vectorized = vectorizer.transform(local_df['Cleaned Text'])\n",
    "\n",
    "# # Predict the sentiment of the local dataset\n",
    "# y_local_pred = nb.predict(X_local_vectorized)\n",
    "\n",
    "local_predictions = pd.DataFrame({'SVM': svm.predict(X_local_test_vectorized),\n",
    "                            'Naive Bayes': nb.predict(X_local_test_vectorized),\n",
    "                            'Random Forest': rf.predict(X_local_test_vectorized)})\n",
    "local_predictions.to_excel('local_predicted_values_3_algo.xlsx', index=False)"
   ]
  },
  {
   "cell_type": "code",
   "execution_count": null,
   "id": "b576fc7c",
   "metadata": {},
   "outputs": [],
   "source": []
  }
 ],
 "metadata": {
  "kernelspec": {
   "display_name": "Python 3 (ipykernel)",
   "language": "python",
   "name": "python3"
  },
  "language_info": {
   "codemirror_mode": {
    "name": "ipython",
    "version": 3
   },
   "file_extension": ".py",
   "mimetype": "text/x-python",
   "name": "python",
   "nbconvert_exporter": "python",
   "pygments_lexer": "ipython3",
   "version": "3.10.9"
  }
 },
 "nbformat": 4,
 "nbformat_minor": 5
}
