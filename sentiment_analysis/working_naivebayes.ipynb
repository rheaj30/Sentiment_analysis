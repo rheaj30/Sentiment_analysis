{
 "cells": [
  {
   "cell_type": "code",
   "execution_count": 40,
   "id": "a405a9a3",
   "metadata": {},
   "outputs": [
    {
     "name": "stdout",
     "output_type": "stream",
     "text": [
      "Accuracy: 0.7386\n"
     ]
    },
    {
     "data": {
      "text/plain": [
       "['naive_bayes_trained.joblib']"
      ]
     },
     "execution_count": 40,
     "metadata": {},
     "output_type": "execute_result"
    }
   ],
   "source": [
    "import pandas as pd\n",
    "from sklearn.feature_extraction.text import TfidfVectorizer\n",
    "from sklearn.naive_bayes import MultinomialNB\n",
    "from sklearn.model_selection import train_test_split\n",
    "from sklearn.metrics import accuracy_score\n",
    "import joblib\n",
    "\n",
    "# Read the preprocessed dataset\n",
    "df = pd.read_csv('training_cleaned.csv', encoding='ISO-8859-1')\n",
    "df.dropna(subset=['cleaned_text'], inplace=True)\n",
    "# Select a subset of the dataset for training and testing\n",
    "subset_df = df.sample(n=100000, random_state=42)\n",
    "\n",
    "# Split the dataset into training and testing sets\n",
    "X_train, X_test, y_train, y_test = train_test_split(subset_df['cleaned_text'], subset_df['sentiment'], test_size=0.2, random_state=42)\n",
    "\n",
    "# Vectorize the text data using TfidfVectorizer\n",
    "vectorizer = TfidfVectorizer()\n",
    "X_train_vectorized = vectorizer.fit_transform(X_train)\n",
    "X_test_vectorized = vectorizer.transform(X_test)\n",
    "\n",
    "# Train the Naive Bayes model\n",
    "nb = MultinomialNB()\n",
    "nb.fit(X_train_vectorized, y_train)\n",
    "\n",
    "# Predict the sentiment of the test data\n",
    "y_pred = nb.predict(X_test_vectorized)\n",
    "\n",
    "# Evaluate the performance of the model\n",
    "accuracy = accuracy_score(y_test, y_pred)\n",
    "print('Accuracy:', accuracy)\n",
    "\n",
    "joblib.dump(nb,'naive_bayes_trained.joblib')\n",
    "\n",
    "# # Read the local dataset from Excel file\n",
    "# local_df = pd.read_excel('cleaned_local_dataset.xlsx')\n",
    "\n",
    "# # Vectorize the text data using the same TfidfVectorizer object used in training\n",
    "# X_local_vectorized = vectorizer.transform(local_df['Cleaned Text'])\n",
    "\n",
    "# # Predict the sentiment of the local dataset\n",
    "# y_local_pred = nb.predict(X_local_vectorized)\n",
    "\n",
    "# # Add the predicted sentiment to the local dataset\n",
    "# local_df['sentiment'] = y_local_pred\n",
    "\n",
    "# # Save the local dataset with predicted sentiment to a new Excel file\n",
    "# local_df.to_excel('local_dataset_with_sentiment_naivebayes.xlsx', index=False)\n"
   ]
  },
  {
   "cell_type": "markdown",
   "id": "d2eac3ee",
   "metadata": {},
   "source": [
    "# Sentiment_analysis of the individual cleaned text"
   ]
  },
  {
   "cell_type": "code",
   "execution_count": 64,
   "id": "aafc9c76",
   "metadata": {},
   "outputs": [],
   "source": [
    "import pandas as pd\n",
    "import openpyxl\n",
    "from sklearn.feature_extraction.text import TfidfVectorizer\n",
    "import joblib\n",
    "\n",
    "def sentiment_analysis(filename):\n",
    "    # Read the local dataset from Excel file\n",
    "    workbook=openpyxl.load_workbook(filename)\n",
    "    sheet_names=workbook.sheetnames\n",
    "    \n",
    "    for sheetname in sheet_names:\n",
    "        df=pd.read_excel(filename,sheet_name=sheetname)\n",
    "        #print(df['cleaned_text'])\n",
    "        if df.empty or 'cleaned_text' not in df.columns:\n",
    "            continue\n",
    "        df.fillna('', inplace=True)\n",
    "        # Vectorize the text data using the same TfidfVectorizer object used in training\n",
    "        # vectorizer = nb.vectorizer\n",
    "        X_local_vectorized = vectorizer.transform(df['cleaned_text'])\n",
    "\n",
    "        # Predict the sentiment of the local dataset\n",
    "        y_local_pred = nb.predict(X_local_vectorized)\n",
    "        \n",
    "        # Select the correct sheet\n",
    "        worksheet = workbook[sheetname]\n",
    "\n",
    "        # Add a new column for the predicted sentiment\n",
    "        worksheet.cell(row=1, column=worksheet.max_column + 1, value='nb_sentiment')\n",
    "\n",
    "        # Write the predicted sentiment values to the new column\n",
    "        for row_idx, sentiment in enumerate(y_local_pred, start=2):\n",
    "            worksheet.cell(row=row_idx, column=worksheet.max_column, value=sentiment)\n",
    "\n",
    "        # Save the updated Excel file\n",
    "        workbook.save(filename)\n",
    " "
   ]
  },
  {
   "cell_type": "code",
   "execution_count": 65,
   "id": "771db890",
   "metadata": {},
   "outputs": [
    {
     "name": "stdout",
     "output_type": "stream",
     "text": [
      "C:/Users/ektag/Minor2/sentiment_analysis/cleaned_filtered_and_sorted_Tweets/cleaned_Copy of BasedMikeLee.xlsx\n",
      "C:/Users/ektag/Minor2/sentiment_analysis/cleaned_filtered_and_sorted_Tweets/cleaned_Copy of bennyjohnson.xlsx\n",
      "C:/Users/ektag/Minor2/sentiment_analysis/cleaned_filtered_and_sorted_Tweets/cleaned_Copy of BillyM2k.xlsx\n",
      "C:/Users/ektag/Minor2/sentiment_analysis/cleaned_filtered_and_sorted_Tweets/cleaned_Copy of charliekirk11.xlsx\n",
      "C:/Users/ektag/Minor2/sentiment_analysis/cleaned_filtered_and_sorted_Tweets/cleaned_Copy of CliffordAsness.xlsx\n",
      "C:/Users/ektag/Minor2/sentiment_analysis/cleaned_filtered_and_sorted_Tweets/cleaned_Copy of ellagirwin.xlsx\n",
      "C:/Users/ektag/Minor2/sentiment_analysis/cleaned_filtered_and_sorted_Tweets/cleaned_Copy of EllaVogelsang.xlsx\n",
      "C:/Users/ektag/Minor2/sentiment_analysis/cleaned_filtered_and_sorted_Tweets/cleaned_Copy of HansMahncke.xlsx\n",
      "C:/Users/ektag/Minor2/sentiment_analysis/cleaned_filtered_and_sorted_Tweets/cleaned_Copy of jonesville.xlsx\n",
      "C:/Users/ektag/Minor2/sentiment_analysis/cleaned_filtered_and_sorted_Tweets/cleaned_Copy of jordanbpeterson.xlsx\n",
      "C:/Users/ektag/Minor2/sentiment_analysis/cleaned_filtered_and_sorted_Tweets/cleaned_Copy of Justwanttruth1.xlsx\n",
      "C:/Users/ektag/Minor2/sentiment_analysis/cleaned_filtered_and_sorted_Tweets/cleaned_Copy of KickiOdell.xlsx\n",
      "C:/Users/ektag/Minor2/sentiment_analysis/cleaned_filtered_and_sorted_Tweets/cleaned_Copy of MatthewJshow.xlsx\n",
      "C:/Users/ektag/Minor2/sentiment_analysis/cleaned_filtered_and_sorted_Tweets/cleaned_Copy of MattWallace888.xlsx\n",
      "C:/Users/ektag/Minor2/sentiment_analysis/cleaned_filtered_and_sorted_Tweets/cleaned_Copy of minliangtan.xlsx\n",
      "C:/Users/ektag/Minor2/sentiment_analysis/cleaned_filtered_and_sorted_Tweets/cleaned_Copy of MrAndyNgo.xlsx\n",
      "C:/Users/ektag/Minor2/sentiment_analysis/cleaned_filtered_and_sorted_Tweets/cleaned_Copy of Oilfield_Rando.xlsx\n",
      "C:/Users/ektag/Minor2/sentiment_analysis/cleaned_filtered_and_sorted_Tweets/cleaned_Copy of PapiTrumpo.xlsx\n",
      "C:/Users/ektag/Minor2/sentiment_analysis/cleaned_filtered_and_sorted_Tweets/cleaned_Copy of pmarca.xlsx\n",
      "C:/Users/ektag/Minor2/sentiment_analysis/cleaned_filtered_and_sorted_Tweets/cleaned_Copy of ProudElephantUS.xlsx\n",
      "C:/Users/ektag/Minor2/sentiment_analysis/cleaned_filtered_and_sorted_Tweets/cleaned_Copy of RichardHanania.xlsx\n",
      "C:/Users/ektag/Minor2/sentiment_analysis/cleaned_filtered_and_sorted_Tweets/cleaned_Copy of RobertS24433578.xlsx\n",
      "C:/Users/ektag/Minor2/sentiment_analysis/cleaned_filtered_and_sorted_Tweets/cleaned_Copy of ShemiRama.xlsx\n",
      "C:/Users/ektag/Minor2/sentiment_analysis/cleaned_filtered_and_sorted_Tweets/cleaned_Copy of TheRabbitHole84.xlsx\n",
      "C:/Users/ektag/Minor2/sentiment_analysis/cleaned_filtered_and_sorted_Tweets/cleaned_Copy of TimRunsHisMouth.xlsx\n",
      "C:/Users/ektag/Minor2/sentiment_analysis/cleaned_filtered_and_sorted_Tweets/cleaned_Copy of troonytoons.xlsx\n",
      "C:/Users/ektag/Minor2/sentiment_analysis/cleaned_filtered_and_sorted_Tweets/cleaned_Copy of unusual_whales.xlsx\n",
      "C:/Users/ektag/Minor2/sentiment_analysis/cleaned_filtered_and_sorted_Tweets/cleaned_Copy of WhatdoesY.xlsx\n",
      "C:/Users/ektag/Minor2/sentiment_analysis/cleaned_filtered_and_sorted_Tweets/cleaned_Copy of ZaleskiLuke.xlsx\n"
     ]
    }
   ],
   "source": [
    "import os\n",
    "directory='C:/Users/ektag/Minor2/sentiment_analysis/cleaned_filtered_and_sorted_Tweets/'\n",
    "for filename in os.listdir(directory):\n",
    "    f=os.path.join(directory,filename)\n",
    "    if os.path.isfile(f) and filename.endswith('.xlsx'):\n",
    "        print(directory+filename)\n",
    "        sentiment_analysis(directory+filename)"
   ]
  },
  {
   "cell_type": "code",
   "execution_count": null,
   "id": "95301fa7",
   "metadata": {},
   "outputs": [],
   "source": []
  }
 ],
 "metadata": {
  "kernelspec": {
   "display_name": "Python 3 (ipykernel)",
   "language": "python",
   "name": "python3"
  },
  "language_info": {
   "codemirror_mode": {
    "name": "ipython",
    "version": 3
   },
   "file_extension": ".py",
   "mimetype": "text/x-python",
   "name": "python",
   "nbconvert_exporter": "python",
   "pygments_lexer": "ipython3",
   "version": "3.10.9"
  }
 },
 "nbformat": 4,
 "nbformat_minor": 5
}
